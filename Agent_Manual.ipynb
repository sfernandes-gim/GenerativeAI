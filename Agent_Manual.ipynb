{
  "nbformat": 4,
  "nbformat_minor": 0,
  "metadata": {
    "colab": {
      "provenance": [],
      "authorship_tag": "ABX9TyNNcA5uHFBrJaxU4E/NqbJO",
      "include_colab_link": true
    },
    "kernelspec": {
      "name": "python3",
      "display_name": "Python 3"
    },
    "language_info": {
      "name": "python"
    }
  },
  "cells": [
    {
      "cell_type": "markdown",
      "metadata": {
        "id": "view-in-github",
        "colab_type": "text"
      },
      "source": [
        "<a href=\"https://colab.research.google.com/github/sfernandes-gim/GenerativeAI/blob/main/Agent_Manual.ipynb\" target=\"_parent\"><img src=\"https://colab.research.google.com/assets/colab-badge.svg\" alt=\"Open In Colab\"/></a>"
      ]
    },
    {
      "cell_type": "code",
      "execution_count": null,
      "metadata": {
        "id": "0FO04lscj9gX"
      },
      "outputs": [],
      "source": [
        "import pandas as pd\n",
        "from groq import Groq\n",
        "from google.colab import userdata\n",
        "import re"
      ]
    },
    {
      "cell_type": "code",
      "source": [
        "client = Groq(\n",
        "    api_key=userdata.get('GROQ'),\n",
        ")"
      ],
      "metadata": {
        "id": "Wp9UoDx-lCK2"
      },
      "execution_count": null,
      "outputs": []
    },
    {
      "cell_type": "code",
      "source": [
        "chat_completion = client.chat.completions.create(\n",
        "    messages=[\n",
        "        {\n",
        "            \"role\": \"user\",\n",
        "            \"content\": \"Explain the importance of fast language models\",\n",
        "        }\n",
        "    ],\n",
        "    model=\"llama3-70b-8192\",\n",
        ")"
      ],
      "metadata": {
        "id": "W6Jv4JKokrWv"
      },
      "execution_count": null,
      "outputs": []
    },
    {
      "cell_type": "code",
      "source": [
        "class Agent:\n",
        "  def __init__(self,system=\"\"):\n",
        "    self.system = system\n",
        "    self.messages = []\n",
        "    if self.system:\n",
        "      self.messages.append({\"role\":\"system\",\"content\":system})\n",
        "\n",
        "  def __call__(self,message):\n",
        "    self.messages.append({\"role\":\"user\",\"content\":message})\n",
        "    result=self.execute()\n",
        "    self.messages.append({\"role\":\"assistant\",\"content\":result})\n",
        "    return result\n",
        "\n",
        "  def execute(self):\n",
        "    completion = client.chat.completions.create(\n",
        "    temperature =0,\n",
        "    model=\"llama3-70b-8192\",\n",
        "    messages=self.messages)\n",
        "\n",
        "    return completion.choices[0].message.content\n"
      ],
      "metadata": {
        "id": "jNruZgKjlr4P"
      },
      "execution_count": null,
      "outputs": []
    },
    {
      "cell_type": "code",
      "source": [
        "prompt = \"\"\"\n",
        "You run in a loop of Thought, Action, PAUSE, Observation.\n",
        "At the end of the loop you output an Answer\n",
        "Use Thought to describe your thoughts about the question you have been asked.\n",
        "Use Action to run one of the actions available to you - then return PAUSE.\n",
        "Observation will be the result of running those actions.\n",
        "\n",
        "Your available actions are:\n",
        "\n",
        "calculate:\n",
        "e.g. calculate: 4 * 7 / 3\n",
        "Runs a calculation and returns the number - uses Python so be sure to use floating point syntax if necessary\n",
        "\n",
        "average_dog_weight:\n",
        "e.g. average_dog_weight: Collie\n",
        "returns average weight of a dog when given the breed\n",
        "\n",
        "Example session:\n",
        "\n",
        "Question: How much does a Bulldog weigh?\n",
        "Thought: I should look the dogs weight using average_dog_weight\n",
        "Action: average_dog_weight: Bulldog\n",
        "PAUSE\n",
        "\n",
        "You will be called again with this:\n",
        "\n",
        "Observation: A Bulldog weights 51 lbs\n",
        "\n",
        "You then output:\n",
        "\n",
        "Answer: A bulldog weights 51 lbs\n",
        "\"\"\".strip()"
      ],
      "metadata": {
        "id": "Po5tECj7l4he"
      },
      "execution_count": null,
      "outputs": []
    },
    {
      "cell_type": "code",
      "source": [
        "def calculate(what):\n",
        "    return eval(what)\n",
        "\n",
        "def average_dog_weight(name):\n",
        "    if name in \"Scottish Terrier\":\n",
        "        return(\"Scottish Terriers average 20 lbs\")\n",
        "    elif name in \"Border Collie\":\n",
        "        return(\"a Border Collies average weight is 37 lbs\")\n",
        "    elif name in \"Toy Poodle\":\n",
        "        return(\"a toy poodles average weight is 7 lbs\")\n",
        "    else:\n",
        "        return(\"An average dog weights 50 lbs\")\n",
        "\n",
        "known_actions = {\n",
        "    \"calculate\": calculate,\n",
        "    \"average_dog_weight\": average_dog_weight\n",
        "}"
      ],
      "metadata": {
        "id": "IKr47CX1oC9B"
      },
      "execution_count": null,
      "outputs": []
    },
    {
      "cell_type": "code",
      "source": [
        "abot = Agent(prompt)"
      ],
      "metadata": {
        "id": "_0XlBLj6qWQi"
      },
      "execution_count": null,
      "outputs": []
    },
    {
      "cell_type": "code",
      "source": [
        "question = \"\"\"I have 2 dogs, a border collie and a scottish terrier. \\\n",
        "What is their combined weight\"\"\"\n",
        "abot(question)"
      ],
      "metadata": {
        "colab": {
          "base_uri": "https://localhost:8080/",
          "height": 52
        },
        "id": "eQWB0_k9qXNa",
        "outputId": "6c5e9f6a-35c6-401b-df42-43ee93d2c266"
      },
      "execution_count": null,
      "outputs": [
        {
          "output_type": "execute_result",
          "data": {
            "text/plain": [
              "'Thought: I need to find the weight of each dog and then add them together. I can use the average_dog_weight action to get the weight of each breed.'"
            ],
            "application/vnd.google.colaboratory.intrinsic+json": {
              "type": "string"
            }
          },
          "metadata": {},
          "execution_count": 76
        }
      ]
    },
    {
      "cell_type": "code",
      "source": [
        "next_prompt = \"Observation: {}\".format(average_dog_weight(\"Border Collie\"))\n",
        "print(next_prompt)"
      ],
      "metadata": {
        "id": "a2GcGAgUrWj-",
        "outputId": "63805a0b-0c29-4efc-b67a-46959c64bc1d",
        "colab": {
          "base_uri": "https://localhost:8080/"
        }
      },
      "execution_count": null,
      "outputs": [
        {
          "output_type": "stream",
          "name": "stdout",
          "text": [
            "Observation: a Border Collies average weight is 37 lbs\n"
          ]
        }
      ]
    },
    {
      "cell_type": "code",
      "source": [
        "abot(next_prompt)"
      ],
      "metadata": {
        "id": "hNOVmypnraqh",
        "outputId": "d8234269-bbcd-4a2b-b3f2-50219a54481f",
        "colab": {
          "base_uri": "https://localhost:8080/",
          "height": 35
        }
      },
      "execution_count": null,
      "outputs": [
        {
          "output_type": "execute_result",
          "data": {
            "text/plain": [
              "'Thought: Now I have the weight of the Border Collie, I need to get the weight of the Scottish Terrier.'"
            ],
            "application/vnd.google.colaboratory.intrinsic+json": {
              "type": "string"
            }
          },
          "metadata": {},
          "execution_count": 78
        }
      ]
    },
    {
      "cell_type": "code",
      "source": [
        "action_re = re.compile('^Action: (\\w+): (.*)$')   # python regular expression to selection action"
      ],
      "metadata": {
        "id": "XLYWlDgVoKbN"
      },
      "execution_count": null,
      "outputs": []
    },
    {
      "cell_type": "code",
      "source": [
        "def query(question, max_turns=5):\n",
        "    i = 0\n",
        "    bot = Agent(prompt)\n",
        "    next_prompt = question\n",
        "    while i < max_turns:\n",
        "        i += 1\n",
        "        result = bot(next_prompt)\n",
        "        print(result)\n",
        "\n",
        "        actions = [\n",
        "            action_re.match(a)\n",
        "            for a in result.split('\\n')\n",
        "            if action_re.match(a)\n",
        "        ]\n",
        "        print(actions)\n",
        "        if actions:\n",
        "            # There is an action to run\n",
        "            action, action_input = actions[0].groups()\n",
        "            if action not in known_actions:\n",
        "                raise Exception(\"Unknown action: {}: {}\".format(action, action_input))\n",
        "            print(\" -- running {} {}\".format(action, action_input))\n",
        "            observation = known_actions[action](action_input)\n",
        "            print(\"Observation:\", observation)\n",
        "            next_prompt = \"Observation: {}\".format(observation)\n",
        "        else:\n",
        "            return"
      ],
      "metadata": {
        "id": "VS3DXlJkoU1p"
      },
      "execution_count": null,
      "outputs": []
    },
    {
      "cell_type": "code",
      "source": [
        "question = \"\"\"How much does a toy poodle weigh?\"\"\"\n",
        "final_answer = query(question)\n",
        "print(\"Final Answer:\", final_answer)"
      ],
      "metadata": {
        "colab": {
          "base_uri": "https://localhost:8080/"
        },
        "id": "e7GLvniCobPk",
        "outputId": "d9d14df1-f866-4f83-9c0f-5b920c08737b"
      },
      "execution_count": null,
      "outputs": [
        {
          "output_type": "stream",
          "name": "stdout",
          "text": [
            "Thought: I should look up the dog's weight using average_dog_weight: Toy Poodle\n",
            "Action: average_dog_weight: Toy Poodle\n",
            "PAUSE\n",
            "[<re.Match object; span=(0, 38), match='Action: average_dog_weight: Toy Poodle'>]\n",
            " -- running average_dog_weight Toy Poodle\n",
            "Observation: a toy poodles average weight is 7 lbs\n",
            "Answer: A toy poodle weighs 7 lbs\n",
            "[]\n",
            "Final Answer: None\n"
          ]
        }
      ]
    }
  ]
}